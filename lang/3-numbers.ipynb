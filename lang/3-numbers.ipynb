{
 "cells": [
  {
   "cell_type": "markdown",
   "metadata": {},
   "source": [
    "You have this types of numbers in rust:\n",
    "- `u8`: An unsigned 8-bit integer (0 to 255 inclusive)\n",
    "- `u16`: An unsigned 16-bit integer (0 to 65,535 inclusive)\n",
    "- `u32`: An unsigned 32-bit integer (0 to 4,294,967,295 inclusive)\n",
    "- `u64`: An unsigned 64-bit integer (0 to 18,446,744,073,709,551,615 inclusive)\n",
    "- `u128`: An unsigned 128-bit integer (0 to 340,282,366,920,938,463,463,374,607,431,768,211,455 inclusive)\n",
    "- `usize`: An unsigned integer the same size as a pointer (64 bits on x86-64)\n",
    "- `i8`: A signed 8-bit integer (-128 to 127 inclusive)\n",
    "- `i16`: A signed 16-bit integer (-32,768 to 32,767 inclusive)\n",
    "- `i32`: A signed 32-bit integer (-2,147,483,648 to 2,147,483,647 inclusive)\n",
    "- `i64`: A signed 64-bit integer (-9,223,372,036,854,775,808 to 9,223,372,036,854,775,807 inclusive)\n",
    "- `i128`: A signed 128-bit integer (-170,141,183,460,469,231,731,687,303,715,884,105,728 to 170,141,183,460,469,231,731,687,303,715,884,105,727 inclusive)"
   ]
  },
  {
   "cell_type": "markdown",
   "metadata": {},
   "source": [
    "If you want to know the Min and Max values you can use std::{type}::MIN and std::{type}::MAX for example."
   ]
  },
  {
   "cell_type": "code",
   "execution_count": null,
   "metadata": {},
   "outputs": [
    {
     "data": {
      "text/plain": [
       "0"
      ]
     },
     "metadata": {},
     "output_type": "display_data"
    }
   ],
   "source": [
    "std::u128::MIN"
   ]
  },
  {
   "cell_type": "code",
   "execution_count": null,
   "metadata": {},
   "outputs": [
    {
     "data": {
      "text/plain": [
       "340282366920938463463374607431768211455"
      ]
     },
     "metadata": {},
     "output_type": "display_data"
    }
   ],
   "source": [
    "std::u128::MAX"
   ]
  },
  {
   "cell_type": "markdown",
   "metadata": {},
   "source": [
    "You can format the long numbers with underscores to make them more readable, for example:\n",
    "\n"
   ]
  },
  {
   "cell_type": "code",
   "execution_count": null,
   "metadata": {},
   "outputs": [
    {
     "name": "stdout",
     "output_type": "stream",
     "text": [
      "28 3 -3\n"
     ]
    },
    {
     "data": {
      "text/plain": [
       "100000000"
      ]
     },
     "metadata": {},
     "output_type": "display_data"
    }
   ],
   "source": [
    "let long_num = 100_000_000;\n",
    "println!(\"{} {} {}\", 28u128, 3u8, -3i8);\n",
    "long_num"
   ]
  }
 ],
 "metadata": {
  "kernelspec": {
   "display_name": "Rust",
   "language": "rust",
   "name": "rust"
  },
  "language_info": {
   "name": "rust"
  }
 },
 "nbformat": 4,
 "nbformat_minor": 2
}
