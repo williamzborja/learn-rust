{
 "cells": [
  {
   "cell_type": "markdown",
   "metadata": {},
   "source": [
    "In rust you can create variables with the `let` keyword. You can also specify the type of the variable by using a colon `:` followed by the type. "
   ]
  },
  {
   "cell_type": "code",
   "execution_count": 6,
   "metadata": {
    "vscode": {
     "languageId": "rust"
    }
   },
   "outputs": [
    {
     "data": {
      "text/plain": [
       "12"
      ]
     },
     "execution_count": 6,
     "metadata": {},
     "output_type": "execute_result"
    }
   ],
   "source": [
    "let num: i32 = 12;\n",
    "num"
   ]
  },
  {
   "cell_type": "markdown",
   "metadata": {},
   "source": [
    "and you can use const to create a constant variable."
   ]
  },
  {
   "cell_type": "code",
   "execution_count": 13,
   "metadata": {
    "vscode": {
     "languageId": "rust"
    }
   },
   "outputs": [
    {
     "data": {
      "text/plain": [
       "100000"
      ]
     },
     "execution_count": 13,
     "metadata": {},
     "output_type": "execute_result"
    }
   ],
   "source": [
    "const MAX_POINTS: u32 = 100_000;\n",
    "MAX_POINTS"
   ]
  },
  {
   "cell_type": "markdown",
   "metadata": {},
   "source": [
    "You can check the size of a type by using the `std::mem::size_of` function. \n"
   ]
  },
  {
   "cell_type": "code",
   "execution_count": null,
   "metadata": {
    "vscode": {
     "languageId": "rust"
    }
   },
   "outputs": [
    {
     "data": {
      "text/plain": [
       "4"
      ]
     },
     "metadata": {},
     "output_type": "display_data"
    }
   ],
   "source": [
    "use std::mem::{size_of, size_of_val};\n",
    "\n",
    "let size = size_of::<char>();\n",
    "size"
   ]
  },
  {
   "cell_type": "markdown",
   "metadata": {},
   "source": [
    "In rust we have the following categories of data types:\n",
    "- Scalar Types\n",
    "- Compound Types\n",
    "- Collections\n",
    "- Smart Pointers"
   ]
  },
  {
   "cell_type": "markdown",
   "metadata": {},
   "source": [
    "Scalar types:\n",
    "- Integer types: i8, i16, i32, i64, i128, u8, u16, u32, u64, u128, isize, usize\n",
    "- Floating-point types: f32, f64\n",
    "- Boolean type: bool\n",
    "- Character type: char"
   ]
  },
  {
   "cell_type": "markdown",
   "metadata": {},
   "source": [
    "Compound types:\n",
    "- Tuple\n",
    "- Array\n",
    "- Slice\n",
    "- String\n",
    "- Struct\n",
    "- Enum"
   ]
  },
  {
   "cell_type": "markdown",
   "metadata": {},
   "source": [
    "Collections:\n",
    "- Vector\n",
    "- HashMap\n",
    "- HashSet\n",
    "- BTreeMap\n",
    "- BTreeSet\n",
    "- LinkedList\n",
    "- BinaryHeap\n",
    "- VecDeque\n"
   ]
  },
  {
   "cell_type": "markdown",
   "metadata": {},
   "source": [
    "Smart Pointers:\n",
    "- Box\n",
    "- Rc\n",
    "- RefCell\n",
    "- Arc\n",
    "- Mutex\n",
    "- RwLock\n",
    "- Cell\n",
    "- UnsafeCell\n",
    "- ManuallyDrop\n",
    "- Pin\n",
    "- PhantomData\n",
    "- NonNull\n",
    "- Unique\n",
    "- Shared\n",
    "- Weak\n",
    "- Cow"
   ]
  }
 ],
 "metadata": {
  "kernelspec": {
   "display_name": "Rust",
   "language": "rust",
   "name": "rust"
  },
  "language_info": {
   "codemirror_mode": "rust",
   "file_extension": ".rs",
   "mimetype": "text/rust",
   "name": "Rust",
   "pygment_lexer": "rust",
   "version": ""
  }
 },
 "nbformat": 4,
 "nbformat_minor": 2
}
